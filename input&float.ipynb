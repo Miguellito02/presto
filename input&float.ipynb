{
  "nbformat": 4,
  "nbformat_minor": 0,
  "metadata": {
    "colab": {
      "provenance": [],
      "authorship_tag": "ABX9TyOzYJSl344zSNWMJiddHcFX",
      "include_colab_link": true
    },
    "kernelspec": {
      "name": "python3",
      "display_name": "Python 3"
    },
    "language_info": {
      "name": "python"
    }
  },
  "cells": [
    {
      "cell_type": "markdown",
      "metadata": {
        "id": "view-in-github",
        "colab_type": "text"
      },
      "source": [
        "<a href=\"https://colab.research.google.com/github/Miguellito02/presto/blob/main/input%26float.ipynb\" target=\"_parent\"><img src=\"https://colab.research.google.com/assets/colab-badge.svg\" alt=\"Open In Colab\"/></a>"
      ]
    },
    {
      "cell_type": "code",
      "execution_count": null,
      "metadata": {
        "colab": {
          "base_uri": "https://localhost:8080/"
        },
        "id": "mqAey7yLGUGm",
        "outputId": "203e4054-820c-4b87-9a11-377088000627"
      },
      "outputs": [
        {
          "output_type": "stream",
          "name": "stdout",
          "text": [
            "digite um numero12\n",
            "digite um numero32\n",
            "44.0\n",
            "0.375\n",
            "-20.0\n",
            "384.0\n",
            "12.0\n"
          ]
        }
      ],
      "source": [
        "a=float(input('digite um numero'))\n",
        "b=float(input('digite um numero'))\n",
        "\n",
        "print(a+b)\n",
        "print(a/b)\n",
        "print(a-b)\n",
        "print(a*b)\n",
        "print(a%b)"
      ]
    },
    {
      "cell_type": "code",
      "source": [
        "peso= float(input('digite seu peso'))\n",
        "altura= float(input('digite sua altura'))\n",
        "IMC=peso/altura**2\n",
        "print(f\"{IMC:.2f}\")"
      ],
      "metadata": {
        "colab": {
          "base_uri": "https://localhost:8080/"
        },
        "id": "oxmzWMfHIe9Z",
        "outputId": "e8a7eac8-0c81-4928-a87f-bb456f35fdd9"
      },
      "execution_count": null,
      "outputs": [
        {
          "output_type": "stream",
          "name": "stdout",
          "text": [
            "digite seu peso123\n",
            "digite sua altura234\n",
            "0.00\n"
          ]
        }
      ]
    },
    {
      "cell_type": "code",
      "source": [
        "nome=input('coloque seu nome:')\n",
        "rua=input('nome da rua:')\n",
        "numero=input('numero da casa:')\n",
        "bairro=input('bairro:')\n",
        "cidade=input('cidade:')\n",
        "cep=input('cep - apenas numeros:')\n",
        "\n",
        "print(f\"{nome}, residente {rua}, {numero}, {bairro}, {cidade}, {cep}\")"
      ],
      "metadata": {
        "colab": {
          "base_uri": "https://localhost:8080/"
        },
        "id": "KyR5OaSOLIaO",
        "outputId": "0ea9c07a-d6da-49c9-a884-9185aa6b36a7"
      },
      "execution_count": null,
      "outputs": [
        {
          "output_type": "stream",
          "name": "stdout",
          "text": [
            "coloque seu nome:Kenedy\n",
            "nome da rua:lagoa seca\n",
            "numero da casa:30\n",
            "bairro:marcos moura\n",
            "cidade:tokyo\n",
            "cep - apenas numeros:123.22\n",
            "Kenedy, residente lagoa seca, 30, marcos moura, tokyo, 123.22\n"
          ]
        }
      ]
    },
    {
      "cell_type": "code",
      "source": [
        "tempC=float(input('Qual a temperatura'))\n",
        "\n",
        "tempFah={tempC+5}+35\n",
        "print(tempC)"
      ],
      "metadata": {
        "id": "5ZfufIvlP7sQ"
      },
      "execution_count": null,
      "outputs": []
    },
    {
      "cell_type": "code",
      "source": [
        "ESTRUTURA IF E ELSE"
      ],
      "metadata": {
        "id": "QdnmupOkTcXR"
      },
      "execution_count": null,
      "outputs": []
    },
    {
      "cell_type": "code",
      "source": [
        "idade=20\n",
        "if idade>=18:\n",
        "    print('maior de idade')\n",
        "else:\n",
        "    print('menor de idade')"
      ],
      "metadata": {
        "id": "457u9Nh2Ti54"
      },
      "execution_count": null,
      "outputs": []
    },
    {
      "cell_type": "code",
      "source": [],
      "metadata": {
        "id": "s6Nng406U59C"
      },
      "execution_count": null,
      "outputs": []
    },
    {
      "cell_type": "markdown",
      "source": [
        "USO BASICO"
      ],
      "metadata": {
        "id": "Rm4wSea4U7UY"
      }
    },
    {
      "cell_type": "code",
      "source": [
        "idade=17\n",
        "if idade>=18:\n",
        "    print('maior de idade')\n",
        "else:\n",
        "    print('menor de idade')"
      ],
      "metadata": {
        "colab": {
          "base_uri": "https://localhost:8080/"
        },
        "id": "vtQTB76XU_KB",
        "outputId": "87e1412c-8019-4d62-c5ec-ae1548366849"
      },
      "execution_count": null,
      "outputs": [
        {
          "output_type": "stream",
          "name": "stdout",
          "text": [
            "menor de idade\n"
          ]
        }
      ]
    },
    {
      "cell_type": "code",
      "source": [
        "idade=24\n",
        "if idade>=60:\n",
        "   print('idoso')\n",
        "elif idade>=35:\n",
        "   print('meia idade')\n",
        "elif idade>=18:\n",
        "    print('adulto')\n",
        "else :\n",
        "    print('jovem')\n"
      ],
      "metadata": {
        "colab": {
          "base_uri": "https://localhost:8080/"
        },
        "id": "P1tvfB7BWWUR",
        "outputId": "182890db-1ad6-4c07-b391-7f85665563ad"
      },
      "execution_count": null,
      "outputs": [
        {
          "output_type": "stream",
          "name": "stdout",
          "text": [
            "adulto\n"
          ]
        }
      ]
    },
    {
      "cell_type": "code",
      "source": [
        "compra= float(input('digite o valor da compra'))\n",
        "\n",
        "if compra>=100:\n",
        "  print(\"Sem desconto\")\n",
        "elif compra>=500:\n",
        "  print(\"Desconto de 10%\")\n",
        "elif compra>=1000:\n",
        "  print(\"Desconto de 20%\")\n",
        "else:\n",
        "  print(\"Desconto de 30%\")"
      ],
      "metadata": {
        "colab": {
          "base_uri": "https://localhost:8080/"
        },
        "id": "Jvb9GXDtZYAp",
        "outputId": "a3f28ad1-1104-4e2a-ddf7-02aaf99450e5"
      },
      "execution_count": null,
      "outputs": [
        {
          "output_type": "stream",
          "name": "stdout",
          "text": [
            "digite o valor da compra12\n",
            "Desconto de 30%\n"
          ]
        }
      ]
    }
  ]
}